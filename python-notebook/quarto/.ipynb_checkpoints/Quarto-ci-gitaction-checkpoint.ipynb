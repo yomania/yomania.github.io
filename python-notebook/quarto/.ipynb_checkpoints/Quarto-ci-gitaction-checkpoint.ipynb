{
 "cells": [
  {
   "cell_type": "markdown",
   "id": "519159aa-bf23-4e25-84dc-89cd554f9668",
   "metadata": {},
   "source": [
    "## Quarto Git pages 그리고 Git actions"
   ]
  },
  {
   "cell_type": "markdown",
   "id": "c078b6e5",
   "metadata": {},
   "source": [
    "이전 gitpage와 연결에서 `.gitignore`에 작성중인 파일은 repo에 올라가지 않게 설정하였는데. 이것은 quarto에겐 의미가 없다 로컬에서 publish 한 경우는 어차피 올라가기 때문이다.\n",
    "\n",
    "이제 git actions를 이용해서 repo에 적용하면 자동배포되는 CI를 만들어서 이 구성이 의미를 가지게 만들어보자"
   ]
  },
  {
   "cell_type": "markdown",
   "id": "6c63c10e",
   "metadata": {},
   "source": [
    "### 작업순서\n",
    "1. git actions를 위한 `.github/workflows/publish.yml`을 작성한다\n",
    "2. commit & push 한다\n",
    "3. git actions가 코드를 열심히 빌드하고 배포한다 (잘된다면...)\n",
    "4. 짠 사이트가 잘나온다."
   ]
  },
  {
   "cell_type": "markdown",
   "id": "91c01528",
   "metadata": {},
   "source": [
    "> 폴더이름이 왜이리 긴가... git actions가 프로세스 명세를 읽어가는 폴더로 설정되어 있기 때문이다.\n",
    "\n",
    "```yml\n",
    "on:\n",
    "  workflow_dispatch:\n",
    "  push:\n",
    "    branches: ['동작할 브렌치명']\n",
    "\n",
    "name: ['액션명']\n",
    "\n",
    "jobs:\n",
    "  build-deploy:\n",
    "    runs-on: ubuntu-latest\n",
    "    permissions:\n",
    "      contents: write\n",
    "    steps:\n",
    "      - name: Check out repository\n",
    "        uses: actions/checkout@v2\n",
    "\n",
    "      - name: Set up Quarto\n",
    "        uses: quarto-dev/quarto-actions/setup@v2\n",
    "\n",
    "      - name: Render and Publish\n",
    "        uses: quarto-dev/quarto-actions/publish@v2\n",
    "        with:\n",
    "          target: gh-pages\n",
    "        env:\n",
    "          GITHUB_TOKEN: ${{ secrets.GITHUB_TOKEN }}\n",
    "```"
   ]
  },
  {
   "cell_type": "markdown",
   "id": "8d868bff",
   "metadata": {},
   "source": [
    "우선 작업전에 `_quarto.yml`에 설정을 해주자\n",
    "\n",
    "```yml\n",
    "execute:\n",
    "  freeze: auto\n",
    "```\n",
    "\n",
    "노트내에 실행이가능한 코드를 로컬에서만 실행하게 해주는 옵션이다. \n",
    "venv 나 renv로 액션내에서 빌드하게 할 수도 있다고 하지만 그건 좋지 않은 선택같다.\n",
    "`freeze: auto`가 설정되면 `_freeze`에 실행가능한 코드의 결과가 저장된다. `_freeze`폴더를 만들어 repo에 추가해준다."
   ]
  },
  {
   "cell_type": "markdown",
   "id": "c5f24c6a",
   "metadata": {},
   "source": [
    "이제 작성완료한 이페이지랑 같이 배포해보자"
   ]
  },
  {
   "cell_type": "code",
   "execution_count": null,
   "id": "bb507e8e-18df-441a-82fb-a82e37d525af",
   "metadata": {},
   "outputs": [],
   "source": []
  }
 ],
 "metadata": {
  "kernelspec": {
   "display_name": "Python 3 (ipykernel)",
   "language": "python",
   "name": "python3"
  },
  "language_info": {
   "codemirror_mode": {
    "name": "ipython",
    "version": 3
   },
   "file_extension": ".py",
   "mimetype": "text/x-python",
   "name": "python",
   "nbconvert_exporter": "python",
   "pygments_lexer": "ipython3",
   "version": "3.9.13"
  },
  "vscode": {
   "interpreter": {
    "hash": "916dbcbb3f70747c44a77c7bcd40155683ae19c65e1c03b4aa3499c5328201f1"
   }
  }
 },
 "nbformat": 4,
 "nbformat_minor": 5
}
