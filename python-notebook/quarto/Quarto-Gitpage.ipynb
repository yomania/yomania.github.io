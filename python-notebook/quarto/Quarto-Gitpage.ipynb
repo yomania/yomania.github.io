{
 "cells": [
  {
   "cell_type": "markdown",
   "id": "cb528ae2-b526-4411-9b15-b99c2d966e22",
   "metadata": {},
   "source": [
    "## Quarto로 만든 문서 배포하기\n",
    "\n",
    "quarto로 문서를 만들고 미리보고 렌더하는거 까지 해본뒤 파일을 노션으로 웹클리퍼로 옮기려 했으나 잘안됬다.\n",
    "html을 노션에 넣는 방법도 있지만 귀차니즘은 그것도 자동화 하고 싶다. (이거 귀차니즘이 맞는건가...)\n",
    "\n",
    "Quarto의 [가이드문서](https://quarto.org/docs/guide/) 를 보면 다양한 문서 퍼블리시 방법이 있는데 목적은 노션페이지를 만드는것이기때문에 [github page를 이용한 Documents publish](https://quarto.org/docs/publishing/github-pages.html)를 선택했다."
   ]
  },
  {
   "cell_type": "markdown",
   "id": "a94b911b-73eb-4bfb-9d7a-f0fa9124010c",
   "metadata": {},
   "source": [
    "문서의 순서를 따라가자\n",
    "1. 만든문서를 로컬의 배포폴더로 렌더링하고, 해당폴더를 github repo와 연결시킨다.\n",
    "2. `quarto publish` 를 이용하여 해당 폴더를 퍼블리시한다.\n",
    "3. Github Action을 이용해서 파일을 수정하고 퍼블리시 할때마다 자동으로 갱신되도록한다.\n",
    "4. (내목표) 노션클리핑으로 해당 문서를 클리핑해서 문서에 붙여넣는다."
   ]
  },
  {
   "cell_type": "markdown",
   "id": "f69339cb-f69e-4aaf-ba03-e8766fce03d0",
   "metadata": {},
   "source": [
    "quatro문서를 따라 `_quarto.yml`로 output폴더를 만드는 구성을 생성한다.\n",
    "\n",
    "` _quarto.yml`\n",
    "```yaml\n",
    "project:\n",
    "  type: website\n",
    "  output-dir: docs\n",
    "```\n",
    "\n",
    "그리고 루트에 .nojekyll파일을 생성한다.\n",
    "\n",
    "> !왜 docs가 아웃풋폴더지? \n",
    "깃허브페이지에서는 master branch /docs를 기본 페이지 노출로 사용한다\n",
    "\n"
   ]
  },
  {
   "cell_type": "markdown",
   "id": "2aec1cc1-e84a-4742-b152-bbec1267eb77",
   "metadata": {},
   "source": [
    "github에 github page를 생성하고 ([가이드](https://docs.github.com/en/pages/quickstart))\n",
    "작성중인 폴더에 `git init`, `git remote add origin {repo url}`을 통해 연결해준다\n",
    "그리고 우"
   ]
  },
  {
   "cell_type": "markdown",
   "id": "0e4781ff-7dd4-4a25-a342-84b34b0b32ea",
   "metadata": {},
   "source": [
    "이제 `quarto publish`"
   ]
  },
  {
   "cell_type": "code",
   "execution_count": null,
   "id": "d4db778f-dc5a-4b7f-870d-82677515cd9d",
   "metadata": {},
   "outputs": [],
   "source": []
  }
 ],
 "metadata": {
  "kernelspec": {
   "display_name": "Python 3 (ipykernel)",
   "language": "python",
   "name": "python3"
  },
  "language_info": {
   "codemirror_mode": {
    "name": "ipython",
    "version": 3
   },
   "file_extension": ".py",
   "mimetype": "text/x-python",
   "name": "python",
   "nbconvert_exporter": "python",
   "pygments_lexer": "ipython3",
   "version": "3.9.13"
  }
 },
 "nbformat": 4,
 "nbformat_minor": 5
}
